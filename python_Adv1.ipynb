{
 "cells": [
  {
   "cell_type": "markdown",
   "id": "22b4f83e-4461-4c97-a92a-ed4479dd1590",
   "metadata": {},
   "source": [
    "### What is the purpose of Python OOP?"
   ]
  },
  {
   "cell_type": "code",
   "execution_count": null,
   "id": "4ef7ee62-f0dc-4918-a350-ecd9766d92c9",
   "metadata": {},
   "outputs": [],
   "source": [
    "OOPs helps the developers to write reusable code.\n",
    "With the help of OOPs, we can easily maintain and modify the existing code."
   ]
  },
  {
   "cell_type": "markdown",
   "id": "1a997b1a-b430-479f-8f14-c40fcb219eca",
   "metadata": {},
   "source": [
    "### Where does an inheritance search look for an attribute?"
   ]
  },
  {
   "cell_type": "code",
   "execution_count": null,
   "id": "740cbf92-5997-418e-8f95-271c107784d2",
   "metadata": {},
   "outputs": [],
   "source": [
    "first in the instance object, \n",
    "then in the class the instance was created from, \n",
    "then in all higher superclasses, progressing from left to right. "
   ]
  },
  {
   "cell_type": "markdown",
   "id": "63f02d0e-ef68-4cbf-b4ea-a997d71562fc",
   "metadata": {},
   "source": [
    "### Q3. How do you distinguish between a class object and an instance object?"
   ]
  },
  {
   "cell_type": "markdown",
   "id": "116fab25-dab2-45ee-bade-c0881d599ebc",
   "metadata": {},
   "source": [
    "In short, An object is a collection of related state and behavior.\n",
    "A class is a blueprint or prototype from which objects are created.\n",
    "An instance is a single and unique unit of a class."
   ]
  },
  {
   "cell_type": "markdown",
   "id": "b3448eff-c79a-4553-9185-ab8ce3105f78",
   "metadata": {},
   "source": [
    "### Q4. What makes the first argument in a class’s method function special?"
   ]
  },
  {
   "cell_type": "code",
   "execution_count": null,
   "id": "5620e999-2877-4309-95a8-e6300323e872",
   "metadata": {},
   "outputs": [],
   "source": [
    "class object passed as its first argument. Recall that, when an instance method is called from an instance object, \n",
    "that instance object is automatically passed as the first argument to the method."
   ]
  },
  {
   "cell_type": "markdown",
   "id": "a1082110-4817-405d-971d-20919158e73d",
   "metadata": {},
   "source": [
    "### Q5. What is the purpose of the __init__ method?"
   ]
  },
  {
   "cell_type": "code",
   "execution_count": null,
   "id": "9b6d03be-70bf-445d-bcdf-28b69b46cc21",
   "metadata": {},
   "outputs": [],
   "source": [
    "The _init_ method lets the class initialize the object's attributes and serves no other purpose"
   ]
  },
  {
   "cell_type": "markdown",
   "id": "be2d00c7-9847-4823-b5f0-18636d6172ec",
   "metadata": {},
   "source": [
    "### Q6. What is the process for creating a class instance?"
   ]
  },
  {
   "cell_type": "code",
   "execution_count": null,
   "id": "26f78138-eb62-4c5e-8475-f7b8dfcb508f",
   "metadata": {},
   "outputs": [],
   "source": [
    "To create instances of a class, you call the class using class name and pass in whatever arguments its _init_ method accepts"
   ]
  },
  {
   "cell_type": "markdown",
   "id": "69f797cd-cce1-45d7-947d-0d33a09c5add",
   "metadata": {},
   "source": [
    "### Q7. What is the process for creating a class?"
   ]
  },
  {
   "cell_type": "markdown",
   "id": "a3d46a4e-a7b7-48af-8d46-176869e1593d",
   "metadata": {},
   "source": [
    "class is defined using the class keyword followed by the class name and : \n",
    "operator after the class name, which allows you to continue in the next indented line to define class members."
   ]
  },
  {
   "cell_type": "markdown",
   "id": "33e80a4b-7d37-4e03-92ca-d290b3c35027",
   "metadata": {},
   "source": [
    "### 8) How would you define the superclasses of a class?"
   ]
  },
  {
   "cell_type": "markdown",
   "id": "53ba4cdc-7f27-48a4-8b48-32b356133d2b",
   "metadata": {},
   "source": [
    "The class from which the subclass is derived is called a superclass"
   ]
  },
  {
   "cell_type": "code",
   "execution_count": null,
   "id": "d45ecd37-a491-49c0-abf5-c04ae70b70c4",
   "metadata": {},
   "outputs": [],
   "source": []
  },
  {
   "cell_type": "code",
   "execution_count": null,
   "id": "f95137a8-a027-443d-b6c9-6cd0f21bbede",
   "metadata": {},
   "outputs": [],
   "source": []
  },
  {
   "cell_type": "code",
   "execution_count": null,
   "id": "8ee9787a-ef51-4662-becf-afaa65af2b8e",
   "metadata": {},
   "outputs": [],
   "source": []
  }
 ],
 "metadata": {
  "kernelspec": {
   "display_name": "Python 3 (ipykernel)",
   "language": "python",
   "name": "python3"
  },
  "language_info": {
   "codemirror_mode": {
    "name": "ipython",
    "version": 3
   },
   "file_extension": ".py",
   "mimetype": "text/x-python",
   "name": "python",
   "nbconvert_exporter": "python",
   "pygments_lexer": "ipython3",
   "version": "3.10.6"
  }
 },
 "nbformat": 4,
 "nbformat_minor": 5
}
